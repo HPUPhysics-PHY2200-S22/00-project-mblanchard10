{
 "cells": [
  {
   "cell_type": "markdown",
   "metadata": {},
   "source": [
    "# Unit 00 Project - Introduction to Python\n",
    "\n",
    "The purpose of this \"mini project\" is to demonstrate your understanding of Python syntax, in particular:\n",
    "\n",
    "- import\n",
    "- list\n",
    "- range object\n",
    "- `for` loop to iterate over a list or range\n",
    "- graph with matplotlib\n",
    "\n",
    "and to demonstrate that you can explore a physical model by:\n",
    "\n",
    "- asking a scientific question.\n",
    "- describing the relevant physics.\n",
    "- developing a computational model.\n",
    "- validating the model.\n",
    "- answering the question.\n",
    "\n",
    "Your project should:\n",
    "\n",
    "- weave narrative with code.\n",
    "- include any relevant background theory with LaTeX to render mathematical notation.\n",
    "- demonstrate the techniques you learned in this unit.\n",
    "- discuss validation. What gives you confidence in your results?\n",
    "\n",
    "\n",
    "<div class=\"alert alert-success\">\n",
    "The tutorial should be of sufficient quality to post to github in your portfolio of work that can be shown to a potential employer or graduate school.\n",
    "</div>\n",
    "\n",
    "## Grading Rubric\n",
    "\n",
    "Category | Needs Improvement (70-75%) | Good (75% - 90%) | Excellent (90%-100%)\n",
    ":---: | :--- | :--- | :---\n",
    "**Narrative** | There is very little narrative. Background information is not present or lacks detail. There is no story woven with the code. Mathematical markup is not used. No citations are included. | There is a narrative, but significant parts are missing. The writing does not flow. Sections headings are sparse. Mathematical markup is poor or insufficient. More and better citations are needed. | There is flow, and a clear storyline. Section headings are used to provide an outline. Mathematical markup is used correctly and sufficiently to display mathematics. Citations are sufficient in number and quality.\n",
    "**Code** | Code is missing or is not functional. Nothing is done to demonstrate that the code is operating correctly. Code is difficult to read. Results are missing or seriously incomplete. Visualization is not included. Units are inconsistent or incorrect. Algorithm is implemented incorrectly or the wrong algorithm chosen. There is significant error. | Code is mostly correct and the implementation or algorithm is a good method to use. Visualization is present, but titles and axes labels need improvement or visualization can be improved. Code is understandable and somewhat commented. Units are mostly consistent and correct.| The code runs flawlessly and is well-organized. The code is easy to read and understand. Units are indicated, consistent, and correct. Visualization is excellent. Techniques and algorithms are well-chosen and correctly implemented. Results are clear and understandable.\n",
    "**Difficulty** | The difficulty level is far beneath what one is capable of | The difficulty level is beneath what one is capable of. | The difficulty is well-matched to one's ablity.\n",
    "\n",
    "Assigned grades will be approximations based on this rubric and assigned weights to each category. In an open-ended project like this, grades have a lot of uncertainty.\n",
    "\n",
    "<div class=\"alert alert-success\">\n",
    "Your project should be in a separate notebook in this repository. You may write VPython programs in a separate `.py` file if this is more effective than including it in the notebook.\n",
    "</div>"
   ]
  },
  {
   "cell_type": "markdown",
   "metadata": {},
   "source": [
    "## Groups\n",
    "\n",
    "You may work in a group of two or individually. If you work in a group, your narrative should describe the contributions of each member of the group."
   ]
  },
  {
   "cell_type": "markdown",
   "metadata": {},
   "source": [
    "## Project Ideas"
   ]
  },
  {
   "cell_type": "markdown",
   "metadata": {},
   "source": [
    "### Option 1\n",
    "\n",
    "Investigate an aspect of kinetic theory describing an ideal gas. Ideas include:\n",
    "\n",
    "- How is the peak speed (i.e. most common speed) in the distribution of speeds related to the temperature of the gas? What is the average speed (as measured by the computed data) of the atoms in the gas? Is it what you expect?\n",
    "- Calculate and graph the average pressure on a wall as a function of time. Is it (approximately) constant? How does it depend on temperature? How does it depend on volume?\n",
    "- Create a mixture of two gases of monoatomic atoms of different masses and different temperatures and look at distribution of speeds of each gas. How can you calculate the \"equilibrium\" temperature of the gas? Is it what you expect?\n",
    "- Create a mixture of two gases of monoatomic atoms of different masses and measure the average pressure by each gas on a wall of the container. What is *partial pressure*? Can you measure the partial pressure of each gas?\n",
    "\n",
    "You are welcomed to explore any other research questions related to kinetic theory and ideas gases."
   ]
  },
  {
   "cell_type": "markdown",
   "metadata": {},
   "source": [
    "### Option 2\n",
    "\n",
    "Review the *Drude model* of electron flow in a conductor. In this model, the electrons are considered an ideal gas, with a constant force on the gas. The electrons collide with fixed lattice sites (nuclei) and each other.\n",
    "\n",
    "Create a model of electron flow in a segment of wire with a constant electric field. Is the drift velocity constant? What affects the drift velocity in your model?"
   ]
  },
  {
   "cell_type": "markdown",
   "metadata": {},
   "source": [
    "### Option 3\n",
    "\n",
    "Examine the density of atoms at the bottom of the box compared to the density of atoms at the top of the box. Are they approximately the same, on average?\n",
    "\n",
    "The density of air in the atmosphere varies as a function of altitude due to Earth's gravitational field. A layer of air near Earth's surface has to apply an upward force (due to random collisions) that is equal to the weight of the air above it. Since the layer of Earth at sea level supports the greatest weight of air above it, it is compressed and the density of air is greater. Can this be observed in your ideal gas model? If you apply a downward gravitational force, do you observe a variation in the density of atoms?"
   ]
  },
  {
   "cell_type": "markdown",
   "metadata": {},
   "source": [
    "### Option 4\n",
    "\n",
    "Model a Plinko board (called a Galton board in mathematics), where your model calculates collisions of a ball with rigid rods. Plot a histogram of positions where the balls exit the bottom of the board. Investigate how variables like the radius of the ball affects the shape of the histogram.\n",
    "\n",
    "![](plinko.png)"
   ]
  },
  {
   "cell_type": "markdown",
   "metadata": {},
   "source": [
    "### Option 5\n",
    "\n",
    "Create your own program that meets the objectives of this project."
   ]
  },
  {
   "cell_type": "code",
   "execution_count": null,
   "metadata": {},
   "outputs": [],
   "source": []
  }
 ],
 "metadata": {
  "kernelspec": {
   "display_name": "Python 3 (ipykernel)",
   "language": "python",
   "name": "python3"
  },
  "language_info": {
   "codemirror_mode": {
    "name": "ipython",
    "version": 3
   },
   "file_extension": ".py",
   "mimetype": "text/x-python",
   "name": "python",
   "nbconvert_exporter": "python",
   "pygments_lexer": "ipython3",
   "version": "3.9.7"
  }
 },
 "nbformat": 4,
 "nbformat_minor": 4
}
