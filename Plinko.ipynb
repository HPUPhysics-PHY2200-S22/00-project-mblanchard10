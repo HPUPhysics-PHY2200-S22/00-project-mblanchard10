{
 "cells": [
  {
   "cell_type": "code",
   "execution_count": 2,
   "id": "6d65389a",
   "metadata": {},
   "outputs": [
    {
     "data": {
      "text/html": [
       "<div id=\"glowscript\" class=\"glowscript\"></div>"
      ],
      "text/plain": [
       "<IPython.core.display.HTML object>"
      ]
     },
     "metadata": {},
     "output_type": "display_data"
    },
    {
     "data": {
      "application/javascript": [
       "if (typeof Jupyter !== \"undefined\") { window.__context = { glowscript_container: $(\"#glowscript\").removeAttr(\"id\")};}else{ element.textContent = ' ';}"
      ],
      "text/plain": [
       "<IPython.core.display.Javascript object>"
      ]
     },
     "metadata": {},
     "output_type": "display_data"
    }
   ],
   "source": [
    "from vpython import *\n",
    "import numpy as np\n",
    "import random as rand\n",
    "import matplotlib.pyplot as plt"
   ]
  },
  {
   "cell_type": "code",
   "execution_count": 12,
   "id": "be42d1f4",
   "metadata": {
    "scrolled": true
   },
   "outputs": [
    {
     "data": {
      "text/html": [
       "<div id=\"glowscript\" class=\"glowscript\"></div>"
      ],
      "text/plain": [
       "<IPython.core.display.HTML object>"
      ]
     },
     "metadata": {},
     "output_type": "display_data"
    },
    {
     "data": {
      "application/javascript": [
       "if (typeof Jupyter !== \"undefined\") { window.__context = { glowscript_container: $(\"#glowscript\").removeAttr(\"id\")};}else{ element.textContent = ' ';}"
      ],
      "text/plain": [
       "<IPython.core.display.Javascript object>"
      ]
     },
     "metadata": {},
     "output_type": "display_data"
    },
    {
     "data": {
      "image/png": "[encoded data removed]",
      "text/plain": [
       "<Figure size 576x432 with 1 Axes>"
      ]
     },
     "metadata": {
      "needs_background": "light"
     },
     "output_type": "display_data"
    }
   ],
   "source": [
    "#Mike Blanchard and Reilly Kobbe\n",
    "#Project 00 - Plinko Board\n",
    "#Dr. Titus\n",
    "#PHY-2200\n",
    "\n",
    "scene1 = canvas(title = \"Plinko Board\")\n",
    "\n",
    "#Declare lists \n",
    "ball1 =[]\n",
    "tlist = []\n",
    "vzlist = []\n",
    "klist = []\n",
    "rods = []\n",
    "\n",
    "m = 2 #mass of an atom\n",
    "g = 9.8 #gravity\n",
    "\n",
    "Rrod = .2 #radius of rod \n",
    "Rball = 2 * Rrod #radius of ball\n",
    "ball = sphere(pos=vec(rand.uniform(-4,4),10,1), radius=Rball, color=color.cyan) #create ball\n",
    "Fgrav = vec(0,-m*g,0) #force of gravity\n",
    "ball.v = vec(rand.uniform(-2,2),0,0) #velocity of ball \n",
    "while ball.v == 0:\n",
    "    ball.v.x = rand.uniform(-2,2)\n",
    "    \n",
    "#time and time displacement \n",
    "t = 0 \n",
    "dt = .001 #updates pos every .01 seconds \n",
    "\n",
    "#visual objects (walls)\n",
    "Lwall = box(pos = vec(-10, 0, 0), size = vec(1, 20, 1), color=color.white)\n",
    "Rwall = box(pos = vec(10, 0, 0), size = vec(1, 20, 1), color=color.white)\n",
    "Bwall = box(pos = vec(0, -10, 0), size = vec(20, 1, 1), color=color.white)\n",
    "\n",
    "#Cylinders in the box i = height, j = width\n",
    "for i in range(-8,9): \n",
    "    for j in range(-8,9):\n",
    "        if i % 2 == 0: \n",
    "            rod = cylinder(pos=vec(i,-8,0),axis=vec(0,0,2), radius=Rrod, collided = False) #radius was .15\n",
    "            rods.append(rod)\n",
    "        elif j % 2 ==0:\n",
    "            rod = cylinder(pos=vec(j,i,0),axis=vec(0,0,2), radius=Rrod, collided = False)\n",
    "            rods.append(rod)\n",
    "for k in range(-8,9): \n",
    "    for l in range(-8,9):\n",
    "        if k % 2 != 0: \n",
    "            rod = cylinder(pos=vec(k,-8,0),axis=vec(0,0,2), radius=Rrod, collided = False)\n",
    "            rods.append(rod)\n",
    "        elif l % 2 !=0:\n",
    "            rod = cylinder(pos=vec(l,k,0),axis=vec(0,0,2), radius=Rrod, collided = False)\n",
    "            rods.append(rod)\n",
    "              \n",
    "#Pause/play\n",
    "scene1.pause()\n",
    "\n",
    "while ball.pos.y > -10:\n",
    "        rate(10000000)\n",
    "        \n",
    "        tlist.append(t)\n",
    "        vzlist.append(ball.v.z) \n",
    "        k = 1/2*m*mag(ball.v)**2\n",
    "        klist.append(k)\n",
    "\n",
    "        ball.v = ball.v + Fgrav/m*dt\n",
    "        ball.pos = ball.pos + ball.v*dt \n",
    "\n",
    "        #loop to check for a collision on each rod\n",
    "        for i in range(len(rods)):\n",
    "            rodcenter = rods[i].pos+rods[i].axis/2\n",
    "            r = ball.pos - rodcenter\n",
    "            if mag(r) < Rrod+Rball and rods[i].collided==False: #check collision\n",
    "                rhat = hat(r)\n",
    "                vballrad = dot(ball.v,rhat)*rhat #rad comp of ball.v\n",
    "                vballtan = ball.v - vballrad #tan comp of ball.v\n",
    "                vballrad = -vballrad * .5 #reverse ball.rad due to collision\n",
    "                ball.v = vballtan + vballrad #new ball velocity after colision\n",
    "                rods[i].collided=True\n",
    "            elif mag(r) > Rrod+Rball and rods[i].collided==True:\n",
    "                rods[i].collided=False\n",
    "\n",
    "        if ball.pos.x >= 9.5:\n",
    "            ball.v.x = - abs(ball.v.x)\n",
    "        elif ball.pos.x <= -9.5:\n",
    "            ball.v.x = abs(ball.v.x)\n",
    "\n",
    "    \n",
    "        t = t + dt\n",
    "\n",
    "#creation of the histogram\n",
    "fig = plt.figure(figsize=(8,6))\n",
    "plt.title('Ball falling in the box')\n",
    "plt.xlabel('t (s)')\n",
    "plt.ylabel('$v_z$ (m/s)')\n",
    "plt.plot(tlist, klist, 'b-')\n",
    "plt.show()\n",
    "    "
   ]
  },
  {
   "cell_type": "code",
   "execution_count": null,
   "id": "54730c9d",
   "metadata": {},
   "outputs": [],
   "source": []
  }
 ],
 "metadata": {
  "kernelspec": {
   "display_name": "Python 3 (ipykernel)",
   "language": "python",
   "name": "python3"
  },
  "language_info": {
   "codemirror_mode": {
    "name": "ipython",
    "version": 3
   },
   "file_extension": ".py",
   "mimetype": "text/x-python",
   "name": "python",
   "nbconvert_exporter": "python",
   "pygments_lexer": "ipython3",
   "version": "3.9.7"
  }
 },
 "nbformat": 4,
 "nbformat_minor": 5
}
