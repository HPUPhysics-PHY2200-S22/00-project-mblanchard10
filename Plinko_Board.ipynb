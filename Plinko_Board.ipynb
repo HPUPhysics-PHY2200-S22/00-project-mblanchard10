{
 "cells": [
  {
   "cell_type": "markdown",
   "id": "2af17b60",
   "metadata": {},
   "source": [
    "# Project 0 - Plinko Board with Histogram \n",
    "\n",
    "By: Mike Blanchard and Reilly Kobbe\n",
    "\n",
    "Date: 1-31-22\n",
    "\n",
    "Professor: Dr. Titus \n",
    "\n",
    "For the first project, Mike and I decided to look into the Plinko Board. A Plinko board is a game where the player takes a chip or a ball and drops a box that has pins located in it. The ball then bounces off of each of the pins until it reaches the bottom of the board. \n",
    "\n",
    "We wanted to study collisions and the force of gravity with this project. What effects does the starting position have on the way the ball collides with the rods? Below we will discuss the scientific process we went through from measuring the ball drop. \n",
    "Let's Start with our simulation \n",
    "\n",
    "## Plinko Board Model "
   ]
  },
  {
   "cell_type": "code",
   "execution_count": 1,
   "id": "e5c60611",
   "metadata": {},
   "outputs": [
    {
     "data": {
      "text/html": [
       "<div id=\"glowscript\" class=\"glowscript\"></div>"
      ],
      "text/plain": [
       "<IPython.core.display.HTML object>"
      ]
     },
     "metadata": {},
     "output_type": "display_data"
    },
    {
     "data": {
      "application/javascript": [
       "if (typeof Jupyter !== \"undefined\") { window.__context = { glowscript_container: $(\"#glowscript\").removeAttr(\"id\")};}else{ element.textContent = ' ';}"
      ],
      "text/plain": [
       "<IPython.core.display.Javascript object>"
      ]
     },
     "metadata": {},
     "output_type": "display_data"
    }
   ],
   "source": [
    "import numpy as np\n",
    "import matplotlib.pyplot as plt\n",
    "import random as rand\n",
    "import pandas as pd\n",
    "from vpython import *"
   ]
  },
  {
   "cell_type": "markdown",
   "id": "d90bd778",
   "metadata": {},
   "source": [
    "# Defining all of the variables used\n",
    "\n",
    "Our first step in creating our Plinko board was defining variables. \n",
    "\n",
    "If we change the value of our variables like Rrod, it affects the values of the radius of the ball as well. When having a smaller Rrod value, the ball can make a more direct path to the bottom of the board. However, when the Rrod value is larger, it affects the rod size and the size of the ball making it more difficult for the ball to find a path to the bottom of the board."
   ]
  },
  {
   "cell_type": "code",
   "execution_count": 2,
   "id": "98ea5811",
   "metadata": {},
   "outputs": [],
   "source": [
    "m = 2 #mass of an atom\n",
    "g = 9.8 #gravity \n",
    "rods = [] # empty list to store to append the rods inside of \n",
    "Rrod = .2 #radius of the rod \n",
    "Rball = 2 * Rrod #radius of ball\n",
    "Fgrav = vec(0,-m*g,0) #force of gravity\n",
    "\n",
    "time = []\n",
    "xaxis=[]\n",
    "\n",
    "#lists of histogram \n",
    "tlist = []\n",
    "vzlist = []\n",
    "klist = []\n",
    "    \n",
    "#time and time displacement \n",
    "dt = .001 #updates pos every .001 seconds "
   ]
  },
  {
   "cell_type": "markdown",
   "id": "7c936e13",
   "metadata": {},
   "source": [
    "# Creating our board\n",
    "\n",
    "Next, we decided it was time to create our board. \n",
    "\n",
    "First, we declared our ball and created a variable for the velocity of the ball. We used a while loop so we could ensure that every time we ran our board, the ball started in a random spot.\n",
    "\n",
    "We started by declaring each side of the wall, making them have a length of 20, and all being positioned along with the (10, -10) range so that each wall was connecting. \n",
    "\n",
    "When we were placing the rods, we needed to create two nested loops. Having two nested loops allowed the rods' height and width to be treated uniquely for the even and odd placed rods, ensuring that every other rod was placed exactly where it needed to be. We used our empty rods list to append each of our rods. \n"
   ]
  },
  {
   "cell_type": "code",
   "execution_count": 3,
   "id": "a3178697",
   "metadata": {},
   "outputs": [
    {
     "data": {
      "text/html": [
       "<div id=\"glowscript\" class=\"glowscript\"></div>"
      ],
      "text/plain": [
       "<IPython.core.display.HTML object>"
      ]
     },
     "metadata": {},
     "output_type": "display_data"
    },
    {
     "data": {
      "application/javascript": [
       "if (typeof Jupyter !== \"undefined\") { window.__context = { glowscript_container: $(\"#glowscript\").removeAttr(\"id\")};}else{ element.textContent = ' ';}"
      ],
      "text/plain": [
       "<IPython.core.display.Javascript object>"
      ]
     },
     "metadata": {},
     "output_type": "display_data"
    },
    {
     "data": {
      "application/javascript": [
       "if (typeof Jupyter !== \"undefined\") {require.undef(\"nbextensions/vpython_libraries/glow.min\");}else{element.textContent = ' ';}"
      ],
      "text/plain": [
       "<IPython.core.display.Javascript object>"
      ]
     },
     "metadata": {},
     "output_type": "display_data"
    },
    {
     "data": {
      "application/javascript": [
       "if (typeof Jupyter !== \"undefined\") {require.undef(\"nbextensions/vpython_libraries/glowcomm\");}else{element.textContent = ' ';}"
      ],
      "text/plain": [
       "<IPython.core.display.Javascript object>"
      ]
     },
     "metadata": {},
     "output_type": "display_data"
    },
    {
     "data": {
      "application/javascript": [
       "if (typeof Jupyter !== \"undefined\") {require.undef(\"nbextensions/vpython_libraries/jquery-ui.custom.min\");}else{element.textContent = ' ';}"
      ],
      "text/plain": [
       "<IPython.core.display.Javascript object>"
      ]
     },
     "metadata": {},
     "output_type": "display_data"
    },
    {
     "data": {
      "application/javascript": [
       "if (typeof Jupyter !== \"undefined\") {require([\"nbextensions/vpython_libraries/glow.min\"], function(){console.log(\"GLOW LOADED\");});}else{element.textContent = ' ';}"
      ],
      "text/plain": [
       "<IPython.core.display.Javascript object>"
      ]
     },
     "metadata": {},
     "output_type": "display_data"
    },
    {
     "data": {
      "application/javascript": [
       "if (typeof Jupyter !== \"undefined\") {require([\"nbextensions/vpython_libraries/glowcomm\"], function(){console.log(\"GLOWCOMM LOADED\");});}else{element.textContent = ' ';}"
      ],
      "text/plain": [
       "<IPython.core.display.Javascript object>"
      ]
     },
     "metadata": {},
     "output_type": "display_data"
    },
    {
     "data": {
      "application/javascript": [
       "if (typeof Jupyter !== \"undefined\") {require([\"nbextensions/vpython_libraries/jquery-ui.custom.min\"], function(){console.log(\"JQUERY LOADED\");});}else{element.textContent = ' ';}"
      ],
      "text/plain": [
       "<IPython.core.display.Javascript object>"
      ]
     },
     "metadata": {},
     "output_type": "display_data"
    }
   ],
   "source": [
    "scene1 = canvas(title = \"Blanchard Kobbe Plinko Board 1.31.22\")\n",
    "\n",
    "ball = sphere(pos=vec(rand.uniform(-4,4),10,1), radius=Rball, color=color.cyan) #create ball\n",
    "ball.v = vec(rand.uniform(-2,2),0,0) #velocity of ball \n",
    "\n",
    "#loop to randomly position ball at the start \n",
    "while ball.v == 0:\n",
    "    ball.v.x = rand.uniform(-2,2)\n",
    "\n",
    "# Creating the sides of our board\n",
    "Lwall = box(pos = vec(-10, 0, 0), size = vec(1, 20, 1), color=color.white)\n",
    "Rwall = box(pos = vec(10, 0, 0), size = vec(1, 20, 1), color=color.white)\n",
    "Bwall = box(pos = vec(0, -10, 0), size = vec(20, 1, 1), color=color.white)\n",
    "\n",
    "#Rods in the box i = height, j = width\n",
    "for i in range(-8,9): \n",
    "    for j in range(-8,9):\n",
    "        if i % 2 == 0: \n",
    "            rod = cylinder(pos=vec(i,-8,0),axis=vec(0,0,2), radius=Rrod, collided = False) #radius was .15\n",
    "            rods.append(rod)\n",
    "        elif j % 2 ==0:\n",
    "            rod = cylinder(pos=vec(j,i,0),axis=vec(0,0,2), radius=Rrod, collided = False)\n",
    "            rods.append(rod)\n",
    "#Rods in the box k = height, j = width \n",
    "for k in range(-8,9): \n",
    "    for l in range(-8,9):\n",
    "        if k % 2 != 0: \n",
    "            rod = cylinder(pos=vec(k,-8,0),axis=vec(0,0,2), radius=Rrod, collided = False)\n",
    "            rods.append(rod)\n",
    "        elif l % 2 !=0:\n",
    "            rod = cylinder(pos=vec(l,k,0),axis=vec(0,0,2), radius=Rrod, collided = False)\n",
    "            rods.append(rod) "
   ]
  },
  {
   "cell_type": "markdown",
   "id": "0a8121fb",
   "metadata": {},
   "source": [
    "# Ball Drop\n",
    "\n",
    "We started by setting our for loop to ten so we could have ten balls drop individually. We set the y-position of the ball to 10 along the width to ensure the ball is positioned at the top of the board. \n",
    "\n",
    "Our next while loop ran as long as the ball's width was greater than -10. This also helped us ensure that the ball was positioned on the board. \n",
    "\n",
    "Next, we have a loop that checked the collisions with each rod. We made sure that the center of our ball wasn’t at the center of our rod due to overlap. When we were able to check this, it allowed us to reverse the radius of the ball due to the collision. \n",
    "\n",
    "Lastly, we checked if 'end' had been met after each iteration of the for loop to append our time and the location on the X-axis.  "
   ]
  },
  {
   "cell_type": "code",
   "execution_count": 4,
   "id": "dfdd6724",
   "metadata": {},
   "outputs": [],
   "source": [
    "scene1.pause()\n",
    "\n",
    "#For loop to control how many \"ball drop\" trials will be done\n",
    "for i in range(10):\n",
    "    t = 0 \n",
    "    ball.pos.y = 10\n",
    "    ball.v = vec(rand.uniform(-2,2),0,0) #velocity of ball \n",
    "    ball.pos.x = rand.uniform(-2,2) ##randomize the balls position\n",
    "    while ball.pos.y > -10:\n",
    "            end = False\n",
    "            rate(10000000)\n",
    "\n",
    "            ball.v = ball.v + Fgrav/m*dt\n",
    "            ball.pos = ball.pos + ball.v*dt \n",
    "\n",
    "            #loop to check for a collision on each rod\n",
    "            for i in range(len(rods)):\n",
    "                rodcenter = rods[i].pos+rods[i].axis/2\n",
    "                r = ball.pos - rodcenter\n",
    "                if mag(r) < Rrod+Rball and rods[i].collided==False: #check collision\n",
    "                    rhat = hat(r)\n",
    "                    vballrad = dot(ball.v,rhat)*rhat #rad comp of ball.v\n",
    "                    vballtan = ball.v - vballrad #tan comp of ball.v\n",
    "                    vballrad = -vballrad * .5 #reverse ball.rad due to collision\n",
    "                    ball.v = vballtan + vballrad #new ball velocity after colision\n",
    "                    rods[i].collided=True\n",
    "                elif mag(r) > Rrod+Rball and rods[i].collided==True:\n",
    "                    rods[i].collided=False\n",
    "\n",
    "            if ball.pos.x >= 9.5:\n",
    "                ball.v.x = - abs(ball.v.x)\n",
    "            elif ball.pos.x <= -9.5:\n",
    "                ball.v.x = abs(ball.v.x)\n",
    "\n",
    "            t = t + dt\n",
    "\n",
    "    end = True \n",
    "    if end == True:\n",
    "        xaxis.append(ball.pos.x)\n",
    "        time.append(t)\n"
   ]
  },
  {
   "cell_type": "markdown",
   "id": "922c482c",
   "metadata": {},
   "source": [
    "## Our Histogram \n",
    "\n",
    "Plots where the ending location was on the X-axis and the adverage time it took. "
   ]
  },
  {
   "cell_type": "code",
   "execution_count": 5,
   "id": "aac73aea",
   "metadata": {},
   "outputs": [
    {
     "data": {
      "image/png": "[encoded data removed]",
      "text/plain": [
       "<Figure size 576x432 with 1 Axes>"
      ]
     },
     "metadata": {
      "needs_background": "light"
     },
     "output_type": "display_data"
    }
   ],
   "source": [
    "#creation of the histogram\n",
    "fig = plt.figure(figsize=(8,6))\n",
    "plt.title('Ending Position of the Ball')\n",
    "plt.xlabel('X-Axis of Plinko Board')\n",
    "plt.ylabel('t(s)')\n",
    "plt.hist(xaxis)\n",
    "plt.show()"
   ]
  },
  {
   "cell_type": "code",
   "execution_count": 6,
   "id": "f89dc2ae",
   "metadata": {},
   "outputs": [
    {
     "data": {
      "image/png": "[encoded data removed]",
      "text/plain": [
       "<Figure size 576x432 with 1 Axes>"
      ]
     },
     "metadata": {
      "needs_background": "light"
     },
     "output_type": "display_data"
    }
   ],
   "source": [
    "#creation of the histogram\n",
    "fig = plt.figure(figsize=(8,6))\n",
    "plt.title('Ending Time of the Ball')\n",
    "plt.ylabel('X-Axis of Plinko Board')\n",
    "plt.xlabel('t(s)')\n",
    "plt.hist(time)\n",
    "plt.show()"
   ]
  },
  {
   "cell_type": "markdown",
   "id": "8e7f7c44",
   "metadata": {},
   "source": [
    "# Conclusion"
   ]
  },
  {
   "cell_type": "code",
   "execution_count": 7,
   "id": "ef23d27d",
   "metadata": {},
   "outputs": [
    {
     "name": "stdout",
     "output_type": "stream",
     "text": [
      "average position on X-Axis after execution:  -2.19\n",
      "average time of execution:  10.73\n"
     ]
    }
   ],
   "source": [
    "avg=sum(xaxis)/len(xaxis)\n",
    "print(\"average position on X-Axis after execution: \",round(avg,2))\n",
    "avg2=sum(time)/len(time)\n",
    "print(\"average time of execution: \",round(avg2,2))"
   ]
  },
  {
   "cell_type": "markdown",
   "id": "bce16b8f",
   "metadata": {},
   "source": [
    "After running this experiment multiple times we could conclude that the mean speed typically falls to somewhere between 11 seconds. The average X-axis position also typically falls in the negatives, or on the left side on the (0,0) origin. What we can conclude from this is no matter the starting position on the board, the ball will always fall on a particular side of the board. This could be because of the angle at which our ball is being dropped into the board."
   ]
  },
  {
   "cell_type": "code",
   "execution_count": null,
   "id": "34f22ce9",
   "metadata": {},
   "outputs": [],
   "source": []
  }
 ],
 "metadata": {
  "kernelspec": {
   "display_name": "Python 3 (ipykernel)",
   "language": "python",
   "name": "python3"
  },
  "language_info": {
   "codemirror_mode": {
    "name": "ipython",
    "version": 3
   },
   "file_extension": ".py",
   "mimetype": "text/x-python",
   "name": "python",
   "nbconvert_exporter": "python",
   "pygments_lexer": "ipython3",
   "version": "3.9.7"
  }
 },
 "nbformat": 4,
 "nbformat_minor": 5
}
