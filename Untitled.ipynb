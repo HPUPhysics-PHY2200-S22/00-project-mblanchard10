{
 "cells": [
  {
   "cell_type": "code",
   "execution_count": 4,
   "id": "529933ff",
   "metadata": {},
   "outputs": [
    {
     "data": {
      "text/html": [
       "<div id=\"glowscript\" class=\"glowscript\"></div>"
      ],
      "text/plain": [
       "<IPython.core.display.HTML object>"
      ]
     },
     "metadata": {},
     "output_type": "display_data"
    },
    {
     "data": {
      "application/javascript": [
       "if (typeof Jupyter !== \"undefined\") { window.__context = { glowscript_container: $(\"#glowscript\").removeAttr(\"id\")};}else{ element.textContent = ' ';}"
      ],
      "text/plain": [
       "<IPython.core.display.Javascript object>"
      ]
     },
     "metadata": {},
     "output_type": "display_data"
    }
   ],
   "source": [
    "from vpython import *\n",
    "import numpy as np\n",
    "import random as rand\n",
    "import matplotlib.pyplot as plt"
   ]
  },
  {
   "cell_type": "code",
   "execution_count": 6,
   "id": "9ee6da66",
   "metadata": {},
   "outputs": [
    {
     "data": {
      "text/html": [
       "<div id=\"glowscript\" class=\"glowscript\"></div>"
      ],
      "text/plain": [
       "<IPython.core.display.HTML object>"
      ]
     },
     "metadata": {},
     "output_type": "display_data"
    },
    {
     "data": {
      "application/javascript": [
       "if (typeof Jupyter !== \"undefined\") { window.__context = { glowscript_container: $(\"#glowscript\").removeAttr(\"id\")};}else{ element.textContent = ' ';}"
      ],
      "text/plain": [
       "<IPython.core.display.Javascript object>"
      ]
     },
     "metadata": {},
     "output_type": "display_data"
    }
   ],
   "source": [
    "scene=canvas(title = \"2 Rods\")\n",
    "rods=[]\n",
    "Rrod = 1\n",
    "Rball = 2*Rrod\n",
    "rod = cylinder(pos=vec(0,-7,0), radius=Rrod, axis=vec(0,0,0.1), color=color.yellow)\n",
    "rod1 = cylinder(pos=vec(0,7,0), radius=Rrod, axis=vec(0,0,0.1), color=color.yellow)\n",
    "rods.append(rod)\n",
    "rods.append(rod1)\n",
    "\n",
    "ball = sphere(pos=vec(0,0,0), radius=Rball, color=color.cyan)\n",
    "ball.v = vec(0,-3,0)\n",
    "\n",
    "t = 0 \n",
    "dt = 0.01\n",
    "\n",
    "scene.pause()\n",
    "\n",
    "while t < 5:\n",
    "    rate(100)\n",
    "    \n",
    "    ball.pos = ball.pos + ball.v*dt\n",
    "    \n",
    "    for i in range(0,2):\n",
    "    \n",
    "        r = ball.pos - rods[i-1].pos\n",
    "        if mag(r) < Rrod+Rball:\n",
    "            rhat = hat(r)\n",
    "            vballrad = dot(ball.v,rhat)*rhat #rad comp of ball.v\n",
    "            vballtan = ball.v - vballrad #tan comp of ball.v\n",
    "            vballrad = - vballrad #reverse ball.rad due to collision\n",
    "            ball.v = vballtan + vballrad #new ball.v after collision\n",
    "    \n",
    "    t = t + dt"
   ]
  },
  {
   "cell_type": "code",
   "execution_count": null,
   "id": "d35a5e00",
   "metadata": {},
   "outputs": [],
   "source": []
  }
 ],
 "metadata": {
  "kernelspec": {
   "display_name": "Python 3 (ipykernel)",
   "language": "python",
   "name": "python3"
  },
  "language_info": {
   "codemirror_mode": {
    "name": "ipython",
    "version": 3
   },
   "file_extension": ".py",
   "mimetype": "text/x-python",
   "name": "python",
   "nbconvert_exporter": "python",
   "pygments_lexer": "ipython3",
   "version": "3.9.7"
  }
 },
 "nbformat": 4,
 "nbformat_minor": 5
}
