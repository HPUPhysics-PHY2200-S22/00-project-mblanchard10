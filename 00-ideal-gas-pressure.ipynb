{
 "cells": [
  {
   "cell_type": "markdown",
   "id": "cad89cc7",
   "metadata": {},
   "source": [
    "# Pressure of an Ideal Gas\n",
    "\n",
    "In this simulation, we will model an ideal gas of helium atoms, each with a mass of 4.0 g/mol and radius 140 pm, in a cubic container of length $L$. The atoms are modeled as hard spheres that make elastic collisions with the walls of the container and with each other.\n",
    "\n",
    "## Research Questions\n",
    "\n",
    "1. If we measure the pressure by the gas on the walls of the container numerically, how does it compare it to the pressure calculated from the ideal gas law?\n",
    "\n",
    "2. How does changing the number of atoms affect the pressure?\n",
    "\n",
    "3. How does changing the temperature affect the pressure?\n",
    "\n",
    "\n",
    "## Theoretical Background\n",
    "\n",
    "According to kinetic theory, the pressure, volume, and temperature of the gas are related according to\n",
    "\n",
    "$$PV = Nk_B T$$\n",
    "\n",
    "where $N$ is the number of atoms in the gas, $k_B$ is the Boltzmann constant, and $T$ is the temperature of the gas in kelvins.\n",
    "\n",
    "When an atom collides with the wall of the container (elastically), the perpendicular component of the velocity of ball reverses in direction, but is constant in magnitude, as shown below.\n",
    "\n",
    "![](ball-wall-collision.png)\n",
    "\n",
    "Thus,\n",
    "\n",
    "$$\\vec{v}_{f,\\parallel} = \\vec{v}_{i,\\parallel}$$\n",
    "\n",
    "and\n",
    "\n",
    "$$\\vec{v}_{f,\\perp} = -\\vec{v}_{i,\\perp}$$\n",
    "\n",
    "The change in momentum of the ball during the collision is\n",
    "\n",
    "$$\\Delta \\vec{p} = \\vec{p}_f - \\vec{p}_i = -2\\vec{p}_{i,perp}$$\n",
    "\n",
    "If the collision occurs during a time interval $\\Delta t$, then the force by the wall on the ball is\n",
    "\n",
    "$$\\vec{F}_{wall} = \\frac{\\Delta \\vec{p}}{\\Delta t} = \\frac{-2\\vec{p}_{i,perp}}{\\Delta t}$$\n",
    "\n",
    "By reciprocity, the force by the ball on the wall is\n",
    "\n",
    "$$\\vec{F}_{ball} = \\frac{\\Delta \\vec{p}}{\\Delta t} = \\frac{2\\vec{p}_{i,perp}}{\\Delta t}$$\n",
    "\n",
    "Let's assume that the time interval for the collision is the same as the time step. Then in a time step $\\Delta t$, the total instantaneous pressure on all of the walls of the container is\n",
    "\n",
    "$$P = \\dfrac{\\sum_i^{N_{coll}}|\\vec{F}_{ball,i}|}{6A_{wall}}$$\n",
    "\n",
    "where the sum is over all simultaneous collisions of atoms with walls of the container. (By *simultaneous* we mean \"within the same time step.\") Note that the area of a single wall is $A_{wall}=L^2$.\n",
    "\n",
    "The instaneous pressure will vary. In some time steps, no collisions with the walls occur. To compare with theory, we should calculate the average pressure over many time steps, which is\n",
    "\n",
    "$$\\bar{P} = \\dfrac{\\sum_{i}^{N_{iter}}P_i}{N_{iter}}$$\n",
    "\n",
    "where $N_{iter}$ is the number of iterations (i.e. time steps) used to calculate the average and $P_i$ is the instantaneous pressure at each time step."
   ]
  },
  {
   "cell_type": "markdown",
   "id": "e390ccc7",
   "metadata": {},
   "source": [
    "## Computational Model\n",
    "\n",
    "The simulation of the helium gas is below. The length of the box is $L=40R$ where $R$ is the radius of a helium atom. It uses a temperature of 300 K. Atoms have random positions and random directions of initial velocity, but all atoms start with the same speed, the rms speed for an ideal gas of this temperature. \n",
    "\n",
    "$$v_0 = v_{rms} = \\sqrt{\\frac{3k_BT}{m}}$$\n",
    "\n",
    "Run the simulation. After each iteration, the instantaneous pressure on the walls of the container is calculated and stored in a list. Wait until the VPython simulation finishes before running the next cell.\n",
    "\n",
    "The following variables will affect how long it takes to run the model:\n",
    "\n",
    "```python\n",
    "N = 100 #toal number of atoms\n",
    "Nsteps = 1e4 #total number of time steps for the while loop\n",
    "```\n",
    "\n",
    "To simulate more particles for a longer time, we can increase the values of these variables.\n",
    "\n",
    "## Assumptions\n",
    "\n",
    "We assume:\n",
    "\n",
    "1. constant temperature.\n",
    "\n",
    "2. elastic collisions between atoms and walls and atoms with each other."
   ]
  },
  {
   "cell_type": "code",
   "execution_count": 1,
   "id": "42c06e51",
   "metadata": {},
   "outputs": [
    {
     "data": {
      "text/html": [
       "<div id=\"glowscript\" class=\"glowscript\"></div>"
      ],
      "text/plain": [
       "<IPython.core.display.HTML object>"
      ]
     },
     "metadata": {},
     "output_type": "display_data"
    },
    {
     "data": {
      "application/javascript": [
       "if (typeof Jupyter !== \"undefined\") { window.__context = { glowscript_container: $(\"#glowscript\").removeAttr(\"id\")};}else{ element.textContent = ' ';}"
      ],
      "text/plain": [
       "<IPython.core.display.Javascript object>"
      ]
     },
     "metadata": {},
     "output_type": "display_data"
    }
   ],
   "source": [
    "from vpython import *\n",
    "import numpy as np\n",
    "import random as rand\n",
    "import matplotlib.pyplot as plt"
   ]
  },
  {
   "cell_type": "code",
   "execution_count": 2,
   "id": "cf9af961",
   "metadata": {},
   "outputs": [],
   "source": [
    "def check_collisions():\n",
    "    \"\"\"Determine all pairs of colliding spheres in the global particles[] list. \n",
    "        \n",
    "    \"\"\"\n",
    "    collided_pairs = [] #a list of pairs of spheres that are overlapping\n",
    "    \n",
    "    for i in range(N):\n",
    "        for j in range(i+1,N): #start at i+1 to avoid double counting and to avoid self-collision\n",
    "            d = mag(particles[i].pos - particles[j].pos)\n",
    "            if d < 2*R:\n",
    "                collided_pairs.append([i,j])            \n",
    "    \n",
    "    return collided_pairs"
   ]
  },
  {
   "cell_type": "code",
   "execution_count": 3,
   "id": "88912302",
   "metadata": {},
   "outputs": [],
   "source": [
    "def calc_collision(i,j):\n",
    "    \"\"\"Calculate new velocity, momentum, and position of pairs of colliding spheres in the global particles[] list. \n",
    "\n",
    "    Keyword arguments:\n",
    "    i -- index of one colliding sphere\n",
    "    j -- index of second colliding sphere\n",
    "\n",
    "    \"\"\"\n",
    "\n",
    "    global particles\n",
    "    \n",
    "    r1 = particles[i].pos\n",
    "    r2 = particles[j].pos\n",
    "    v1 = particles[i].v\n",
    "    v2 = particles[j].v\n",
    "    p1 = m*v1\n",
    "    p2 = m*v2\n",
    "    v1i = v1\n",
    "    v2i = v2\n",
    "    \n",
    "    #transform to reference frame of particle 1\n",
    "    v2rel = v2 - v1\n",
    "    r2rel = r2 - r1\n",
    "    \n",
    "    #find time when collision ocurred\n",
    "    dx = dot(r2rel, hat(v2rel))\n",
    "    dy = mag(cross(r2rel, hat(v2rel)))\n",
    "    if (dy>2*R): return #avoids math domain error\n",
    "    alpha = asin(dy/2/R)\n",
    "    d = 2*R*cos(alpha) + dx\n",
    "    deltat = d/mag(v2rel)\n",
    "    \n",
    "    #move particles backward in time to their locations at the collision\n",
    "    particles[i].pos = particles[i].pos - particles[i].v*deltat\n",
    "    particles[j].pos = particles[j].pos - particles[j].v*deltat\n",
    "    \n",
    "    #calculate new momenta using CM reference frame\n",
    "    r1 = particles[i].pos\n",
    "    r2 = particles[j].pos\n",
    "    M = 2*m #total mass\n",
    "    ptot = p1+p2 #total momentum\n",
    "    vcm = ptot/M\n",
    "    v1rel = v1 - vcm\n",
    "    v2rel = v2 - vcm\n",
    "    p1rel = m*v1rel\n",
    "    p2rel = m*v2rel\n",
    "    r = r2 - r1\n",
    "    p1rel = p1rel - 2*dot(p1rel,hat(r))*hat(r)\n",
    "    p2rel = p2rel - 2*dot(p2rel,hat(r))*hat(r)\n",
    "    v1rel = p1rel/m\n",
    "    v2rel = p2rel/m\n",
    "    v1 = vcm + v1rel\n",
    "    v2 = vcm + v2rel\n",
    "    p1 = m*v1\n",
    "    p2 = m*v2\n",
    "    particles[i].v = v1\n",
    "    particles[j].v = v2\n",
    "\n",
    "    #move particles forward in time to their locations at the end of the time step\n",
    "    particles[i].pos = particles[i].pos + particles[i].v*deltat\n",
    "    particles[j].pos = particles[j].pos + particles[j].v*deltat\n",
    "    \n"
   ]
  },
  {
   "cell_type": "code",
   "execution_count": 5,
   "id": "5a97423a",
   "metadata": {},
   "outputs": [
    {
     "data": {
      "text/html": [
       "<div id=\"glowscript\" class=\"glowscript\"></div>"
      ],
      "text/plain": [
       "<IPython.core.display.HTML object>"
      ]
     },
     "metadata": {},
     "output_type": "display_data"
    },
    {
     "data": {
      "application/javascript": [
       "if (typeof Jupyter !== \"undefined\") { window.__context = { glowscript_container: $(\"#glowscript\").removeAttr(\"id\")};}else{ element.textContent = ' ';}"
      ],
      "text/plain": [
       "<IPython.core.display.Javascript object>"
      ]
     },
     "metadata": {},
     "output_type": "display_data"
    },
    {
     "data": {
      "application/javascript": [
       "if (typeof Jupyter !== \"undefined\") {require.undef(\"nbextensions/vpython_libraries/glow.min\");}else{element.textContent = ' ';}"
      ],
      "text/plain": [
       "<IPython.core.display.Javascript object>"
      ]
     },
     "metadata": {},
     "output_type": "display_data"
    },
    {
     "data": {
      "application/javascript": [
       "if (typeof Jupyter !== \"undefined\") {require.undef(\"nbextensions/vpython_libraries/glowcomm\");}else{element.textContent = ' ';}"
      ],
      "text/plain": [
       "<IPython.core.display.Javascript object>"
      ]
     },
     "metadata": {},
     "output_type": "display_data"
    },
    {
     "data": {
      "application/javascript": [
       "if (typeof Jupyter !== \"undefined\") {require.undef(\"nbextensions/vpython_libraries/jquery-ui.custom.min\");}else{element.textContent = ' ';}"
      ],
      "text/plain": [
       "<IPython.core.display.Javascript object>"
      ]
     },
     "metadata": {},
     "output_type": "display_data"
    },
    {
     "data": {
      "application/javascript": [
       "if (typeof Jupyter !== \"undefined\") {require([\"nbextensions/vpython_libraries/glow.min\"], function(){console.log(\"GLOW LOADED\");});}else{element.textContent = ' ';}"
      ],
      "text/plain": [
       "<IPython.core.display.Javascript object>"
      ]
     },
     "metadata": {},
     "output_type": "display_data"
    },
    {
     "data": {
      "application/javascript": [
       "if (typeof Jupyter !== \"undefined\") {require([\"nbextensions/vpython_libraries/glowcomm\"], function(){console.log(\"GLOWCOMM LOADED\");});}else{element.textContent = ' ';}"
      ],
      "text/plain": [
       "<IPython.core.display.Javascript object>"
      ]
     },
     "metadata": {},
     "output_type": "display_data"
    },
    {
     "data": {
      "application/javascript": [
       "if (typeof Jupyter !== \"undefined\") {require([\"nbextensions/vpython_libraries/jquery-ui.custom.min\"], function(){console.log(\"JQUERY LOADED\");});}else{element.textContent = ' ';}"
      ],
      "text/plain": [
       "<IPython.core.display.Javascript object>"
      ]
     },
     "metadata": {},
     "output_type": "display_data"
    }
   ],
   "source": [
    "scene = canvas(title=\"N Particles in a Box\")\n",
    "\n",
    "#constants\n",
    "m = 4.0/1000/6.02e23 #mass of atom in kg\n",
    "R = 140e-12 #radius of atom in m\n",
    "L = 40*R #length of box in m\n",
    "thick = L/100 #thickness of box wall in m\n",
    "k = 1.4e-23 #boltzmann constant\n",
    "T = 300 #temp in K\n",
    "s =  np.sqrt(2*3/2*k*T/m) #initial speed\n",
    "N = 100 #number of atoms\n",
    "Nsteps = 1e4 #number of time steps for the loop\n",
    "\n",
    "#visual objects\n",
    "Lwall = box(pos = vec(-L/2, 0, 0), size = vec(thick, L, L), color=color.white)\n",
    "Rwall = box(pos = vec(L/2, 0, 0), size = vec(thick, L, L), color=color.white)\n",
    "Bwall = box(pos = vec(0, -L/2, 0), size = vec(L, thick, L), color=color.white)\n",
    "Twall = box(pos = vec(0, L/2, 0), size = vec(L, thick, L), color=color.white)\n",
    "Zwall = box(pos = vec(0, 0, -L/2), size = vec(L, L, thick), color=color.white)\n",
    "\n",
    "particles = [] #list of particles\n",
    "\n",
    "#create particles\n",
    "for i in range(N):\n",
    "    if i==0:\n",
    "        particle = sphere(pos = L/2*vec(rand.uniform(-0.9,0.9),rand.uniform(-0.9,0.9),rand.uniform(-0.9,0.9)), radius = R, color = color.cyan, make_trail=True, retain=20, trail_radius=0.3*R)\n",
    "    else:\n",
    "        particle = sphere(pos = L/2*vec(rand.uniform(-0.9,0.9),rand.uniform(-0.9,0.9),rand.uniform(-0.9,0.9)), radius = R, color = color.red)\n",
    "\n",
    "    #initial velocity\n",
    "    particle.v = s*hat(vec(rand.uniform(-1,1), rand.uniform(-1,1), rand.uniform(-1,1)))\n",
    "    particle.p = m*particle.v\n",
    "\n",
    "    particles.append(particle)\n",
    "\n",
    "#check for collisions and rerandomize positions of particles that are collided\n",
    "collided_pairs = check_collisions()\n",
    "while len(collided_pairs)!=0:\n",
    "    for pair in collided_pairs:\n",
    "        particles[pair[0]].pos = L/2*vec(rand.uniform(-1,1),rand.uniform(-1,1),rand.uniform(-1,1))\n",
    "        particles[pair[1]].pos = L/2*vec(rand.uniform(-1,1),rand.uniform(-1,1),rand.uniform(-1,1))\n",
    "    collided_pairs = check_collisions()\n",
    "\n",
    "#time\n",
    "t = 0\n",
    "dt = R/s/10\n",
    "tlist = []\n",
    "tlist.append(t)\n",
    "\n",
    "#histogram stuff\n",
    "histograms = [] #a list of histograms after each time step\n",
    "deltav = 100 # bin width for v histogram\n",
    "nbins = int(6000/deltav) #number of bins\n",
    "bin_edges = [int(i*deltav) for i in range(nbins)] #left side of bins\n",
    "\n",
    "#store histogram\n",
    "counts, binx = np.histogram([mag(particle.v) for particle in particles], bins=bin_edges, range=None, normed=None, weights=None, density=None)\n",
    "histograms.append(counts)\n",
    "\n",
    "#pressure stuff\n",
    "pressures = [] #list of instantaneous pressure\n",
    "avepressures = [] #list of average wall pressure\n",
    "pressures.append(0)#initial pressure is 0 since no collisions at t=0\n",
    "avepressures.append(0)#initial average pressure is 0 since no collisions at t=0\n",
    "\n",
    "#evolution\n",
    "scene.pause()\n",
    "\n",
    "iterations = 0 #count of number of iterations of while loop\n",
    "while t < Nsteps*dt:\n",
    "    rate(1000) #sets number of loops per second in order to slow down or speed up visualization\n",
    "\n",
    "    #update position of each particle\n",
    "    for particle in particles:\n",
    "        particle.pos = particle.pos + particle.v*dt\n",
    "        \n",
    "    #handle collisions of particles with each other\n",
    "    collided_pairs = check_collisions()\n",
    "    for pair in collided_pairs:\n",
    "        i = pair[0]\n",
    "        j = pair[1]\n",
    "        calc_collision(i,j)\n",
    "    \n",
    "    #handle collision with walls\n",
    "    dpx = 0 #sum of abs(dp.x) for all particles due to collision with walls\n",
    "    dpy = 0 #sum of abs(dp.y) for all particles due to collision with walls\n",
    "    dpz = 0 #sum of abs(dp.z) for all particles due to collision with walls\n",
    "    for particle in particles:\n",
    "        if particle.pos.x > L/2:\n",
    "            particle.v.x = - abs(particle.v.x)\n",
    "            particle.p = m*particle.v\n",
    "            dpx = dpx + abs(2*particle.p.x)\n",
    "        elif particle.pos.x < -L/2:\n",
    "            particle.v.x = abs(particle.v.x)\n",
    "            particle.p = m*particle.v\n",
    "            dpx = dpx + abs(2*particle.p.x)\n",
    "\n",
    "        if particle.pos.y > L/2:\n",
    "            particle.v.y = - abs(particle.v.y)\n",
    "            particle.p = m*particle.v\n",
    "            dpy = dpy + abs(2*particle.p.y)\n",
    "        elif particle.pos.y < -L/2:\n",
    "            particle.v.y = abs(particle.v.y)\n",
    "            particle.p = m*particle.v\n",
    "            dpy = dpy + abs(2*particle.p.y)\n",
    "\n",
    "        if particle.pos.z > L/2:\n",
    "            particle.v.z = - abs(particle.v.z)\n",
    "            particle.p = m*particle.v\n",
    "            dpz = dpz + abs(2*particle.p.z)\n",
    "        elif particle.pos.z < -L/2:\n",
    "            particle.v.z = abs(particle.v.z)\n",
    "            particle.p = m*particle.v\n",
    "            dpz = dpz + abs(2*particle.p.z)\n",
    "    \n",
    "    t = t + dt\n",
    "    tlist.append(t)\n",
    "    iterations = iterations+1\n",
    "\n",
    "    #calculate pressure on walls\n",
    "    Fx = dpx/dt #instantaneous Fmag on side walls\n",
    "    Fy = dpy/dt #instantaneous Fmag on top and bottom walls\n",
    "    Fz = dpz/dt #instantaneous Fmag on front and back walls\n",
    "    Ftot = Fx+Fy+Fz #total force on walls\n",
    "    P = Ftot/L**2/6 #total average pressure\n",
    "    pressures.append(P)\n",
    "    Pave = (avepressures[-1]*(iterations-1) + P)/iterations\n",
    "    avepressures.append(Pave)\n",
    "\n",
    "    #store histogram\n",
    "    counts, binx = np.histogram([mag(particle.v) for particle in particles], bins=bin_edges, range=None, normed=None, weights=None, density=None)\n",
    "    histograms.append(counts)\n"
   ]
  },
  {
   "cell_type": "markdown",
   "id": "5c14df29",
   "metadata": {},
   "source": [
    "## Instantaneous Pressure\n",
    "\n",
    "Plot the instantaneous pressure as a function of time."
   ]
  },
  {
   "cell_type": "code",
   "execution_count": 6,
   "id": "f2952954",
   "metadata": {},
   "outputs": [
    {
     "data": {
      "image/png": "[encoded data removed]",
      "text/plain": [
       "<Figure size 864x576 with 1 Axes>"
      ]
     },
     "metadata": {
      "needs_background": "light"
     },
     "output_type": "display_data"
    }
   ],
   "source": [
    "#plot instantaneous pressure\n",
    "plt.figure(figsize=(12,8))\n",
    "plt.title('Instantaneous pressure vs. time')\n",
    "plt.plot(tlist,pressures,'b.')\n",
    "plt.xlabel(\"t (s)\")\n",
    "plt.ylabel(\"P (Pa)\")\n",
    "plt.show()"
   ]
  },
  {
   "cell_type": "markdown",
   "id": "b6da78ef",
   "metadata": {},
   "source": [
    "The instantaneous pressure increases and decreases with each time step. The maximum is approximately $4\\times 10^7$ Pa and the minimum is zero. In fact, there are so many time steps with zero pressure, the data points at $P=0$ look like a solid line.\n",
    "\n",
    "## Average Pressure\n",
    "\n",
    "The average pressure is the sum all the pressures divided by the total number of time steps. It was computed iteratively and stored in the list `avepressures`.\n",
    "\n",
    "The theoretical pressure is calculated from the ideal gas law.\n",
    "\n",
    "$$P_{theor} = \\frac{Nk_BT}{V}$$\n",
    "\n",
    "where $V$ is the volume of the container."
   ]
  },
  {
   "cell_type": "code",
   "execution_count": 7,
   "id": "c474d7a8",
   "metadata": {},
   "outputs": [
    {
     "data": {
      "image/png": "[encoded data removed]",
      "text/plain": [
       "<Figure size 864x576 with 1 Axes>"
      ]
     },
     "metadata": {
      "needs_background": "light"
     },
     "output_type": "display_data"
    },
    {
     "name": "stdout",
     "output_type": "stream",
     "text": [
      "From ideal gas law: P = 2.39e+06 Pa\n",
      "Average pressure in simulation: P = 2.44e+06 Pa\n",
      "Percent difference = 2.12%\n"
     ]
    }
   ],
   "source": [
    "#Calculate theoretical pressure\n",
    "V=L**3\n",
    "Ptheor = N*k*T/V\n",
    "\n",
    "#plot average pressure\n",
    "plt.figure(figsize=(12,8))\n",
    "plt.title('Average pressure vs. time')\n",
    "plt.xlabel(\"t (s)\")\n",
    "plt.ylabel(\"$P_{ave}$ (Pa)\")\n",
    "plt.plot(tlist,avepressures,'b-', label='Mean Pressure')\n",
    "plt.plot(tlist,np.ones(len(tlist))*Ptheor,'r-', label=\"Theory\")\n",
    "plt.show()\n",
    "\n",
    "#print\n",
    "print(\"From ideal gas law: P = {:.2e} Pa\".format(Ptheor))\n",
    "\n",
    "Pcalc=avepressures[-1]\n",
    "print(\"Average pressure in simulation: P = {:.2e} Pa\".format(Pcalc))\n",
    "\n",
    "percentdiff = np.abs(Pcalc - Ptheor)/Ptheor*100\n",
    "print(\"Percent difference = {:.2f}%\".format(percentdiff))"
   ]
  },
  {
   "cell_type": "markdown",
   "id": "02afa1b2",
   "metadata": {},
   "source": [
    "The graph and calculations show that our calculation from the model is 2% different from the theoretical calculation using the ideal gas law."
   ]
  },
  {
   "cell_type": "markdown",
   "id": "89058daa",
   "metadata": {},
   "source": [
    "# Change $N$\n",
    "\n",
    "In the simulation below, we double the number of atoms to $N=200$. But first, store the average pressures from the previous simulation so we can graph it with the new average pressures for larger N."
   ]
  },
  {
   "cell_type": "code",
   "execution_count": 8,
   "id": "11dde279",
   "metadata": {},
   "outputs": [],
   "source": [
    "Pave100 = avepressures.copy()"
   ]
  },
  {
   "cell_type": "code",
   "execution_count": 9,
   "id": "c5ef2ab2",
   "metadata": {},
   "outputs": [
    {
     "data": {
      "text/html": [
       "<div id=\"glowscript\" class=\"glowscript\"></div>"
      ],
      "text/plain": [
       "<IPython.core.display.HTML object>"
      ]
     },
     "metadata": {},
     "output_type": "display_data"
    },
    {
     "data": {
      "application/javascript": [
       "if (typeof Jupyter !== \"undefined\") { window.__context = { glowscript_container: $(\"#glowscript\").removeAttr(\"id\")};}else{ element.textContent = ' ';}"
      ],
      "text/plain": [
       "<IPython.core.display.Javascript object>"
      ]
     },
     "metadata": {},
     "output_type": "display_data"
    }
   ],
   "source": [
    "scene = canvas(title=\"N Particles in a Box\")\n",
    "\n",
    "#constants\n",
    "m = 4.0/1000/6.02e23 #mass of atom in kg\n",
    "R = 140e-12 #radius of atom in m\n",
    "L = 40*R #length of box in m\n",
    "thick = L/100 #thickness of box wall in m\n",
    "k = 1.4e-23 #boltzmann constant\n",
    "T = 300 #temp in K\n",
    "s =  np.sqrt(2*3/2*k*T/m) #initial speed\n",
    "N = 200 #number of atoms\n",
    "Nsteps = 1e4 #number of time steps for the loop\n",
    "\n",
    "#visual objects\n",
    "Lwall = box(pos = vec(-L/2, 0, 0), size = vec(thick, L, L), color=color.white)\n",
    "Rwall = box(pos = vec(L/2, 0, 0), size = vec(thick, L, L), color=color.white)\n",
    "Bwall = box(pos = vec(0, -L/2, 0), size = vec(L, thick, L), color=color.white)\n",
    "Twall = box(pos = vec(0, L/2, 0), size = vec(L, thick, L), color=color.white)\n",
    "Zwall = box(pos = vec(0, 0, -L/2), size = vec(L, L, thick), color=color.white)\n",
    "\n",
    "particles = [] #list of particles\n",
    "\n",
    "#create particles\n",
    "for i in range(N):\n",
    "    if i==0:\n",
    "        particle = sphere(pos = L/2*vec(rand.uniform(-0.9,0.9),rand.uniform(-0.9,0.9),rand.uniform(-0.9,0.9)), radius = R, color = color.cyan, make_trail=True, retain=20, trail_radius=0.3*R)\n",
    "    else:\n",
    "        particle = sphere(pos = L/2*vec(rand.uniform(-0.9,0.9),rand.uniform(-0.9,0.9),rand.uniform(-0.9,0.9)), radius = R, color = color.red)\n",
    "\n",
    "    #initial velocity\n",
    "    particle.v = s*hat(vec(rand.uniform(-1,1), rand.uniform(-1,1), rand.uniform(-1,1)))\n",
    "    particle.p = m*particle.v\n",
    "\n",
    "    particles.append(particle)\n",
    "\n",
    "#check for collisions and rerandomize positions of particles that are collided\n",
    "collided_pairs = check_collisions()\n",
    "while len(collided_pairs)!=0:\n",
    "    for pair in collided_pairs:\n",
    "        particles[pair[0]].pos = L/2*vec(rand.uniform(-1,1),rand.uniform(-1,1),rand.uniform(-1,1))\n",
    "        particles[pair[1]].pos = L/2*vec(rand.uniform(-1,1),rand.uniform(-1,1),rand.uniform(-1,1))\n",
    "    collided_pairs = check_collisions()\n",
    "\n",
    "#time\n",
    "t = 0\n",
    "dt = R/s/10\n",
    "tlist = []\n",
    "tlist.append(t)\n",
    "\n",
    "#histogram stuff\n",
    "histograms = [] #a list of histograms after each time step\n",
    "deltav = 100 # bin width for v histogram\n",
    "nbins = int(6000/deltav) #number of bins\n",
    "bin_edges = [int(i*deltav) for i in range(nbins)] #left side of bins\n",
    "\n",
    "#store histogram\n",
    "counts, binx = np.histogram([mag(particle.v) for particle in particles], bins=bin_edges, range=None, normed=None, weights=None, density=None)\n",
    "histograms.append(counts)\n",
    "\n",
    "#pressure stuff\n",
    "pressures = [] #list of instantaneous pressure\n",
    "avepressures = [] #list of average wall pressure\n",
    "pressures.append(0)#initial pressure is 0 since no collisions at t=0\n",
    "avepressures.append(0)#initial average pressure is 0 since no collisions at t=0\n",
    "\n",
    "#evolution\n",
    "scene.pause()\n",
    "\n",
    "iterations = 0 #count of number of iterations of while loop\n",
    "while t < Nsteps*dt:\n",
    "    rate(1000) #sets number of loops per second in order to slow down or speed up visualization\n",
    "\n",
    "    #update position of each particle\n",
    "    for particle in particles:\n",
    "        particle.pos = particle.pos + particle.v*dt\n",
    "        \n",
    "    #handle collisions of particles with each other\n",
    "    collided_pairs = check_collisions()\n",
    "    for pair in collided_pairs:\n",
    "        i = pair[0]\n",
    "        j = pair[1]\n",
    "        calc_collision(i,j)\n",
    "    \n",
    "    #handle collision with walls\n",
    "    dpx = 0 #sum of abs(dp.x) for all particles due to collision with walls\n",
    "    dpy = 0 #sum of abs(dp.y) for all particles due to collision with walls\n",
    "    dpz = 0 #sum of abs(dp.z) for all particles due to collision with walls\n",
    "    for particle in particles:\n",
    "        if particle.pos.x > L/2:\n",
    "            particle.v.x = - abs(particle.v.x)\n",
    "            particle.p = m*particle.v\n",
    "            dpx = dpx + abs(2*particle.p.x)\n",
    "        elif particle.pos.x < -L/2:\n",
    "            particle.v.x = abs(particle.v.x)\n",
    "            particle.p = m*particle.v\n",
    "            dpx = dpx + abs(2*particle.p.x)\n",
    "\n",
    "        if particle.pos.y > L/2:\n",
    "            particle.v.y = - abs(particle.v.y)\n",
    "            particle.p = m*particle.v\n",
    "            dpy = dpy + abs(2*particle.p.y)\n",
    "        elif particle.pos.y < -L/2:\n",
    "            particle.v.y = abs(particle.v.y)\n",
    "            particle.p = m*particle.v\n",
    "            dpy = dpy + abs(2*particle.p.y)\n",
    "\n",
    "        if particle.pos.z > L/2:\n",
    "            particle.v.z = - abs(particle.v.z)\n",
    "            particle.p = m*particle.v\n",
    "            dpz = dpz + abs(2*particle.p.z)\n",
    "        elif particle.pos.z < -L/2:\n",
    "            particle.v.z = abs(particle.v.z)\n",
    "            particle.p = m*particle.v\n",
    "            dpz = dpz + abs(2*particle.p.z)\n",
    "    \n",
    "    t = t + dt\n",
    "    tlist.append(t)\n",
    "    iterations = iterations+1\n",
    "\n",
    "    #calculate pressure on walls\n",
    "    Fx = dpx/dt #instantaneous Fmag on side walls\n",
    "    Fy = dpy/dt #instantaneous Fmag on top and bottom walls\n",
    "    Fz = dpz/dt #instantaneous Fmag on front and back walls\n",
    "    Ftot = Fx+Fy+Fz #total force on walls\n",
    "    P = Ftot/L**2/6 #total average pressure\n",
    "    pressures.append(P)\n",
    "    Pave = (avepressures[-1]*(iterations-1) + P)/iterations\n",
    "    avepressures.append(Pave)\n",
    "\n",
    "    #store histogram\n",
    "    counts, binx = np.histogram([mag(particle.v) for particle in particles], bins=bin_edges, range=None, normed=None, weights=None, density=None)\n",
    "    histograms.append(counts)\n"
   ]
  },
  {
   "cell_type": "code",
   "execution_count": 11,
   "id": "c95d6dcc",
   "metadata": {},
   "outputs": [
    {
     "data": {
      "image/png": "[encoded data removed]",
      "text/plain": [
       "<Figure size 864x576 with 1 Axes>"
      ]
     },
     "metadata": {
      "needs_background": "light"
     },
     "output_type": "display_data"
    },
    {
     "name": "stdout",
     "output_type": "stream",
     "text": [
      "Average pressure for N=100: P = 2.44e+06 Pa\n",
      "Average pressure for N=200: P = 5.01e+06 Pa\n",
      "ratio of pressures: 2.05\n"
     ]
    }
   ],
   "source": [
    "#plot average pressure\n",
    "plt.figure(figsize=(12,8))\n",
    "plt.title('Average pressure vs. time')\n",
    "plt.xlabel(\"t (s)\")\n",
    "plt.ylabel(\"$P_{ave}$ (Pa)\")\n",
    "plt.plot(tlist,Pave100,'b-', label='Mean Pressure (N=100)')\n",
    "plt.plot(tlist,avepressures,'g-', label='Mean Pressure (N=200)')\n",
    "plt.show()\n",
    "\n",
    "#print\n",
    "Pave1=Pave100[-1]\n",
    "print(\"Average pressure for N=100: P = {:.2e} Pa\".format(Pave1))\n",
    "Pave2=avepressures[-1]\n",
    "print(\"Average pressure for N=200: P = {:.2e} Pa\".format(Pave2))\n",
    "print(\"ratio of pressures: {:.2f}\".format(Pave2/Pave1))\n"
   ]
  },
  {
   "cell_type": "markdown",
   "id": "0f6857ca",
   "metadata": {},
   "source": [
    "From the ideal gas law, if we double $N$, then we expect to double the pressure. In this case, it increased by 2.05 which is 2.5% higher than expected."
   ]
  },
  {
   "cell_type": "markdown",
   "id": "47cb634a",
   "metadata": {},
   "source": [
    "## Change Temperature\n",
    "\n",
    "Increase the temperature of the gas from 300 K to 600 K. We expect to double the pressure. Let's see."
   ]
  },
  {
   "cell_type": "code",
   "execution_count": 12,
   "id": "382064aa",
   "metadata": {},
   "outputs": [
    {
     "data": {
      "text/html": [
       "<div id=\"glowscript\" class=\"glowscript\"></div>"
      ],
      "text/plain": [
       "<IPython.core.display.HTML object>"
      ]
     },
     "metadata": {},
     "output_type": "display_data"
    },
    {
     "data": {
      "application/javascript": [
       "if (typeof Jupyter !== \"undefined\") { window.__context = { glowscript_container: $(\"#glowscript\").removeAttr(\"id\")};}else{ element.textContent = ' ';}"
      ],
      "text/plain": [
       "<IPython.core.display.Javascript object>"
      ]
     },
     "metadata": {},
     "output_type": "display_data"
    }
   ],
   "source": [
    "scene = canvas(title=\"N Particles in a Box\")\n",
    "\n",
    "#constants\n",
    "m = 4.0/1000/6.02e23 #mass of atom in kg\n",
    "R = 140e-12 #radius of atom in m\n",
    "L = 40*R #length of box in m\n",
    "thick = L/100 #thickness of box wall in m\n",
    "k = 1.4e-23 #boltzmann constant\n",
    "T = 600 #temp in K\n",
    "s =  np.sqrt(2*3/2*k*T/m) #initial speed\n",
    "N = 100 #number of atoms\n",
    "Nsteps = 1e4 #number of time steps for the loop\n",
    "\n",
    "#visual objects\n",
    "Lwall = box(pos = vec(-L/2, 0, 0), size = vec(thick, L, L), color=color.white)\n",
    "Rwall = box(pos = vec(L/2, 0, 0), size = vec(thick, L, L), color=color.white)\n",
    "Bwall = box(pos = vec(0, -L/2, 0), size = vec(L, thick, L), color=color.white)\n",
    "Twall = box(pos = vec(0, L/2, 0), size = vec(L, thick, L), color=color.white)\n",
    "Zwall = box(pos = vec(0, 0, -L/2), size = vec(L, L, thick), color=color.white)\n",
    "\n",
    "particles = [] #list of particles\n",
    "\n",
    "#create particles\n",
    "for i in range(N):\n",
    "    if i==0:\n",
    "        particle = sphere(pos = L/2*vec(rand.uniform(-0.9,0.9),rand.uniform(-0.9,0.9),rand.uniform(-0.9,0.9)), radius = R, color = color.cyan, make_trail=True, retain=20, trail_radius=0.3*R)\n",
    "    else:\n",
    "        particle = sphere(pos = L/2*vec(rand.uniform(-0.9,0.9),rand.uniform(-0.9,0.9),rand.uniform(-0.9,0.9)), radius = R, color = color.red)\n",
    "\n",
    "    #initial velocity\n",
    "    particle.v = s*hat(vec(rand.uniform(-1,1), rand.uniform(-1,1), rand.uniform(-1,1)))\n",
    "    particle.p = m*particle.v\n",
    "\n",
    "    particles.append(particle)\n",
    "\n",
    "#check for collisions and rerandomize positions of particles that are collided\n",
    "collided_pairs = check_collisions()\n",
    "while len(collided_pairs)!=0:\n",
    "    for pair in collided_pairs:\n",
    "        particles[pair[0]].pos = L/2*vec(rand.uniform(-1,1),rand.uniform(-1,1),rand.uniform(-1,1))\n",
    "        particles[pair[1]].pos = L/2*vec(rand.uniform(-1,1),rand.uniform(-1,1),rand.uniform(-1,1))\n",
    "    collided_pairs = check_collisions()\n",
    "\n",
    "#time\n",
    "t = 0\n",
    "dt = R/s/10\n",
    "tlist = []\n",
    "tlist.append(t)\n",
    "\n",
    "#histogram stuff\n",
    "histograms = [] #a list of histograms after each time step\n",
    "deltav = 100 # bin width for v histogram\n",
    "nbins = int(6000/deltav) #number of bins\n",
    "bin_edges = [int(i*deltav) for i in range(nbins)] #left side of bins\n",
    "\n",
    "#store histogram\n",
    "counts, binx = np.histogram([mag(particle.v) for particle in particles], bins=bin_edges, range=None, normed=None, weights=None, density=None)\n",
    "histograms.append(counts)\n",
    "\n",
    "#pressure stuff\n",
    "pressures = [] #list of instantaneous pressure\n",
    "avepressures = [] #list of average wall pressure\n",
    "pressures.append(0)#initial pressure is 0 since no collisions at t=0\n",
    "avepressures.append(0)#initial average pressure is 0 since no collisions at t=0\n",
    "\n",
    "#evolution\n",
    "scene.pause()\n",
    "\n",
    "iterations = 0 #count of number of iterations of while loop\n",
    "while t < Nsteps*dt:\n",
    "    rate(1000) #sets number of loops per second in order to slow down or speed up visualization\n",
    "\n",
    "    #update position of each particle\n",
    "    for particle in particles:\n",
    "        particle.pos = particle.pos + particle.v*dt\n",
    "        \n",
    "    #handle collisions of particles with each other\n",
    "    collided_pairs = check_collisions()\n",
    "    for pair in collided_pairs:\n",
    "        i = pair[0]\n",
    "        j = pair[1]\n",
    "        calc_collision(i,j)\n",
    "    \n",
    "    #handle collision with walls\n",
    "    dpx = 0 #sum of abs(dp.x) for all particles due to collision with walls\n",
    "    dpy = 0 #sum of abs(dp.y) for all particles due to collision with walls\n",
    "    dpz = 0 #sum of abs(dp.z) for all particles due to collision with walls\n",
    "    for particle in particles:\n",
    "        if particle.pos.x > L/2:\n",
    "            particle.v.x = - abs(particle.v.x)\n",
    "            particle.p = m*particle.v\n",
    "            dpx = dpx + abs(2*particle.p.x)\n",
    "        elif particle.pos.x < -L/2:\n",
    "            particle.v.x = abs(particle.v.x)\n",
    "            particle.p = m*particle.v\n",
    "            dpx = dpx + abs(2*particle.p.x)\n",
    "\n",
    "        if particle.pos.y > L/2:\n",
    "            particle.v.y = - abs(particle.v.y)\n",
    "            particle.p = m*particle.v\n",
    "            dpy = dpy + abs(2*particle.p.y)\n",
    "        elif particle.pos.y < -L/2:\n",
    "            particle.v.y = abs(particle.v.y)\n",
    "            particle.p = m*particle.v\n",
    "            dpy = dpy + abs(2*particle.p.y)\n",
    "\n",
    "        if particle.pos.z > L/2:\n",
    "            particle.v.z = - abs(particle.v.z)\n",
    "            particle.p = m*particle.v\n",
    "            dpz = dpz + abs(2*particle.p.z)\n",
    "        elif particle.pos.z < -L/2:\n",
    "            particle.v.z = abs(particle.v.z)\n",
    "            particle.p = m*particle.v\n",
    "            dpz = dpz + abs(2*particle.p.z)\n",
    "    \n",
    "    t = t + dt\n",
    "    tlist.append(t)\n",
    "    iterations = iterations+1\n",
    "\n",
    "    #calculate pressure on walls\n",
    "    Fx = dpx/dt #instantaneous Fmag on side walls\n",
    "    Fy = dpy/dt #instantaneous Fmag on top and bottom walls\n",
    "    Fz = dpz/dt #instantaneous Fmag on front and back walls\n",
    "    Ftot = Fx+Fy+Fz #total force on walls\n",
    "    P = Ftot/L**2/6 #total average pressure\n",
    "    pressures.append(P)\n",
    "    Pave = (avepressures[-1]*(iterations-1) + P)/iterations\n",
    "    avepressures.append(Pave)\n",
    "\n",
    "    #store histogram\n",
    "    counts, binx = np.histogram([mag(particle.v) for particle in particles], bins=bin_edges, range=None, normed=None, weights=None, density=None)\n",
    "    histograms.append(counts)\n"
   ]
  },
  {
   "cell_type": "code",
   "execution_count": 16,
   "id": "308f90c7",
   "metadata": {},
   "outputs": [
    {
     "data": {
      "image/png": "[encoded data removed]",
      "text/plain": [
       "<Figure size 864x576 with 1 Axes>"
      ]
     },
     "metadata": {
      "needs_background": "light"
     },
     "output_type": "display_data"
    },
    {
     "name": "stdout",
     "output_type": "stream",
     "text": [
      "Average pressure for N=100, T=300 K: P = 2.44e+06 Pa\n",
      "Average pressure for N=100, T=600 K: P = 4.90e+06 Pa\n",
      "ratio of pressures: 2.005\n"
     ]
    }
   ],
   "source": [
    "#plot average pressure\n",
    "plt.figure(figsize=(12,8))\n",
    "plt.title('Average pressure vs. time')\n",
    "plt.xlabel(\"t (s)\")\n",
    "plt.ylabel(\"$P_{ave}$ (Pa)\")\n",
    "plt.plot(tlist,Pave100[:-1],'b-', label='Mean Pressure (N=100, T=300 K)')\n",
    "plt.plot(tlist,avepressures,'g-', label='Mean Pressure (N=100, T=600 K)')\n",
    "plt.show()\n",
    "\n",
    "#print\n",
    "Pave1=Pave100[-1]\n",
    "print(\"Average pressure for N=100, T=300 K: P = {:.2e} Pa\".format(Pave1))\n",
    "Pave2=avepressures[-1]\n",
    "print(\"Average pressure for N=100, T=600 K: P = {:.2e} Pa\".format(Pave2))\n",
    "print(\"ratio of pressures: {:.3f}\".format(Pave2/Pave1))\n"
   ]
  },
  {
   "cell_type": "markdown",
   "id": "9d779129",
   "metadata": {},
   "source": [
    "We expected the pressure to double, and it increased by a factor of 2.005."
   ]
  },
  {
   "cell_type": "markdown",
   "id": "321f02c0",
   "metadata": {},
   "source": [
    "## Conclusion\n",
    "\n",
    "In this project, we simulated an ideal gas of helium atoms by assuming hard sphere elastic collisions. The measured pressure was within 2% of the calculated pressure using the ideal gas law, with $N=100$ atoms and a temperature of 300 K. We doubled $N$ and found the pressure increased by a factor 2.05, which was 2.5% higher than expected. We doubled the temperature and found that the pressure increaesd by 2.005, which is only 0.25% higher than expected.\n",
    "\n",
    "In general, the results of our model agree with predictions of the ideal gas law."
   ]
  },
  {
   "cell_type": "code",
   "execution_count": null,
   "id": "88f7b81e",
   "metadata": {},
   "outputs": [],
   "source": [
    "\"\""
   ]
  }
 ],
 "metadata": {
  "kernelspec": {
   "display_name": "Python 3 (ipykernel)",
   "language": "python",
   "name": "python3"
  },
  "language_info": {
   "codemirror_mode": {
    "name": "ipython",
    "version": 3
   },
   "file_extension": ".py",
   "mimetype": "text/x-python",
   "name": "python",
   "nbconvert_exporter": "python",
   "pygments_lexer": "ipython3",
   "version": "3.9.7"
  }
 },
 "nbformat": 4,
 "nbformat_minor": 5
}
