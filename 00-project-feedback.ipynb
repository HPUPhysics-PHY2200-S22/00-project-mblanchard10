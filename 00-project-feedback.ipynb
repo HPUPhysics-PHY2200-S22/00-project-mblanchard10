{
 "cells": [
  {
   "cell_type": "code",
   "execution_count": 1,
   "id": "cd6df9ab",
   "metadata": {},
   "outputs": [],
   "source": [
    "import numpy as np\n",
    "import matplotlib.pyplot as plt"
   ]
  },
  {
   "cell_type": "markdown",
   "id": "90fa464b",
   "metadata": {},
   "source": [
    "## Unit Projects\n",
    "\n",
    "The unit project demonstrates that you can explore a physical model by:\n",
    "\n",
    "- asking a scientific question.\n",
    "- describing the relevant physics.\n",
    "- developing a computational model.\n",
    "- validating the model.\n",
    "- answering the question.\n",
    "\n",
    "Your project should:\n",
    "\n",
    "- weave narrative with code.\n",
    "- include any relevant background theory with LaTeX to render mathematical notation.\n",
    "- demonstrate the techniques you learned in this unit.\n",
    "- discuss validation. What gives you confidence in your results?\n",
    "\n",
    "\n",
    "<div class=\"alert alert-success\">\n",
    "The project should be of sufficient quality to post to github in your portfolio of work that can be shown to a potential employer or graduate school.\n",
    "</div>\n",
    "\n",
    "## Grading Rubric\n",
    "\n",
    "Category | Needs Improvement (60-75%) | Good (75% - 90%) | Excellent (90%-100%)\n",
    ":---: | :--- | :--- | :---\n",
    "**Narrative** | There is very little narrative. Background information is not present or lacks detail. There is no story woven with the code. Mathematical markup is not used. No citations are included. | There is a narrative, but significant parts are missing. The writing does not flow. Sections headings are sparse. Mathematical markup is poor or insufficient. More and better citations are needed. | There is flow, and a clear storyline. Section headings are used to provide an outline. Mathematical markup is used correctly and sufficiently to display mathematics. Citations are sufficient in number and quality.\n",
    "**Code** | Code is missing or is not functional. Nothing is done to demonstrate that the code is operating correctly. Code is difficult to read. Results are missing or seriously incomplete. Visualization is not included. Units are inconsistent or incorrect. Algorithm is implemented incorrectly or the wrong algorithm chosen. There is significant error. | Code is mostly correct and the implementation or algorithm is a good method to use. Visualization is present, but titles and axes labels need improvement or visualization can be improved. Code is understandable and somewhat commented. Units are mostly consistent and correct.| The code runs flawlessly and is well-organized. The code is easy to read and understand. Units are indicated, consistent, and correct. Visualization is excellent. Techniques and algorithms are well-chosen and correctly implemented. Results are clear and understandable.\n",
    "**Difficulty** | The difficulty level is far beneath what one is capable of | The difficulty level is beneath what one is capable of. | The difficulty is well-matched to one's ablity.\n",
    "\n",
    "Assigned grades will be approximations based on this rubric and assigned weights to each category. In an open-ended project like this, grades have a lot of uncertainty.\n"
   ]
  },
  {
   "cell_type": "markdown",
   "id": "d893b3c3",
   "metadata": {},
   "source": [
    "## Project 1\n",
    "\n",
    "### Feedback\n",
    "\n",
    "Here are my thoughts as I worked through your notebook:\n",
    "\n",
    "- The intro paragraph should be much stronger. What if a reader doesn't even know what Plinko is?\n",
    "- What is your research question? What are you investigating? I assume you want to plot a histogram of final x-positions. But you need much greater N than 3. Also, will you investigate what variables that histogram (and its average and standard dev.) depends on?\n",
    "- The simulation seems to work very well.\n",
    "- You measure the time for a ball to fall through the board, but shouldn't you reset `t=0` after each ball reaches the bottom? Were you going to measure the average speed of the ball (in the vertical direction) and find the average speed for many balls? Then you can investigate how a variable like rod density affects the average speed.\n",
    "- You said you would plot a histogram, but the graph is not a histogram. I'm not sure how the graph is useful.\n",
    "- You've got a good solid foundation for your program. But the project needs a scientific investigation.\n",
    "\n",
    "### Rubric Grades and Weights\n",
    "\n",
    "Category | Grade (%) | Weight (%)\n",
    "--- | --- | ---\n",
    "Narrative | 70 | 40\n",
    "Code | 85 | 40\n",
    "Difficulty | 100 | 20\n",
    "\n",
    "### Grade"
   ]
  },
  {
   "cell_type": "code",
   "execution_count": 6,
   "id": "07b78562",
   "metadata": {},
   "outputs": [
    {
     "name": "stdout",
     "output_type": "stream",
     "text": [
      "Weighted Average = 82\n"
     ]
    }
   ],
   "source": [
    "weights = np.array([0.4,0.4,0.2])\n",
    "grades = np.array([ 70 , 85 , 100 ])\n",
    "\n",
    "ave = np.dot(weights,grades)\n",
    "\n",
    "print(\"Weighted Average = {:.0f}\".format(ave))"
   ]
  },
  {
   "cell_type": "code",
   "execution_count": null,
   "id": "492ba2bc",
   "metadata": {},
   "outputs": [],
   "source": []
  }
 ],
 "metadata": {
  "kernelspec": {
   "display_name": "Python 3 (ipykernel)",
   "language": "python",
   "name": "python3"
  },
  "language_info": {
   "codemirror_mode": {
    "name": "ipython",
    "version": 3
   },
   "file_extension": ".py",
   "mimetype": "text/x-python",
   "name": "python",
   "nbconvert_exporter": "python",
   "pygments_lexer": "ipython3",
   "version": "3.9.7"
  }
 },
 "nbformat": 4,
 "nbformat_minor": 5
}
